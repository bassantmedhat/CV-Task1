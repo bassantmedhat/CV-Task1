{
  "cells": [
    {
      "cell_type": "code",
      "execution_count": null,
      "metadata": {
        "id": "D_I9157_OJ-f"
      },
      "outputs": [],
      "source": [
        "import cv2\n",
        "import numpy as np\n",
        "from scipy.stats.kde import gaussian_kde\n",
        "import matplotlib.pyplot as plt"
      ]
    },
    {
      "cell_type": "code",
      "execution_count": null,
      "metadata": {
        "id": "Mvh6jFLaOuLi"
      },
      "outputs": [],
      "source": [
        "#original image\n",
        "pic = cv2.imread()"
      ]
    }
  ],
  "metadata": {
    "colab": {
      "provenance": []
    },
    "kernelspec": {
      "display_name": "base",
      "language": "python",
      "name": "python3"
    },
    "language_info": {
      "name": "python",
      "version": "3.9.13"
    },
    "vscode": {
      "interpreter": {
        "hash": "f41c51adac5993cceefa637c356c0b01587b7b4ebd16e1fa0ae1292330bd54aa"
      }
    }
  },
  "nbformat": 4,
  "nbformat_minor": 0
}
